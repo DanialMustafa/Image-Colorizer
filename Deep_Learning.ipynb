{
  "nbformat": 4,
  "nbformat_minor": 0,
  "metadata": {
    "colab": {
      "provenance": [],
      "gpuType": "T4"
    },
    "kernelspec": {
      "name": "python3",
      "display_name": "Python 3"
    },
    "language_info": {
      "name": "python"
    },
    "accelerator": "GPU"
  },
  "cells": [
    {
      "cell_type": "code",
      "execution_count": 1,
      "metadata": {
        "colab": {
          "base_uri": "https://localhost:8080/"
        },
        "id": "OYYRfPyIbte8",
        "outputId": "0c944747-8d71-437f-d7d9-14169accc117"
      },
      "outputs": [
        {
          "output_type": "stream",
          "name": "stdout",
          "text": [
            "Collecting torchinfo\n",
            "  Downloading torchinfo-1.8.0-py3-none-any.whl.metadata (21 kB)\n",
            "Downloading torchinfo-1.8.0-py3-none-any.whl (23 kB)\n",
            "Installing collected packages: torchinfo\n",
            "Successfully installed torchinfo-1.8.0\n"
          ]
        }
      ],
      "source": [
        "import os\n",
        "import time\n",
        "import copy\n",
        "from tqdm import tqdm\n",
        "import numpy as np\n",
        "import matplotlib.pyplot as plt\n",
        "import torch\n",
        "from torch import nn\n",
        "import torch.nn.functional as F\n",
        "from torchvision import transforms\n",
        "from PIL import Image\n",
        "from skimage import color\n",
        "!pip install torchinfo\n",
        "from torchinfo import summary"
      ]
    },
    {
      "cell_type": "code",
      "source": [
        "def load_img(img_path):\n",
        "\tout_np = np.asarray(Image.open(img_path))\n",
        "\tif(out_np.ndim==2):\n",
        "\t\tout_np = np.tile(out_np[:,:,None],3)\n",
        "\treturn out_np\n",
        "\n",
        "def resize_img(img, HW=(150,150), resample=3):\n",
        "\treturn np.asarray(Image.fromarray(img).resize((HW[1],HW[0]), resample=resample))\n",
        "\n",
        "def preprocess_img(img_rgb_orig, HW=(150,150), resample=3):\n",
        "\t# return original size L and resized L as torch Tensors\n",
        "\timg_rgb_rs = resize_img(img_rgb_orig, HW=HW, resample=resample)\n",
        "\n",
        "\timg_lab_orig = color.rgb2lab(img_rgb_orig)\n",
        "\timg_lab_rs = color.rgb2lab(img_rgb_rs)\n",
        "\n",
        "\timg_l_orig = img_lab_orig[:,:,0]\n",
        "\timg_l_rs = img_lab_rs[:,:,0]\n",
        "\n",
        "\ttens_orig_l = torch.Tensor(img_l_orig)[None,None,:,:]\n",
        "\ttens_rs_l = torch.Tensor(img_l_rs)[None,None,:,:]\n",
        "\n",
        "\treturn (tens_orig_l, tens_rs_l)\n",
        "\n",
        "def postprocess_tens(tens_orig_l, out_ab, mode='bilinear'):\n",
        "\t# tens_orig_l \t1 x 1 x H_orig x W_orig\n",
        "\t# out_ab \t\t1 x 2 x H x W\n",
        "\n",
        "\tHW_orig = tens_orig_l.shape[2:]\n",
        "\tHW = out_ab.shape[2:]\n",
        "\n",
        "\t# call resize function if needed\n",
        "\tif(HW_orig[0]!=HW[0] or HW_orig[1]!=HW[1]):\n",
        "\t\tout_ab_orig = F.interpolate(out_ab, size=HW_orig, mode='bilinear')\n",
        "\telse:\n",
        "\t\tout_ab_orig = out_ab\n",
        "\n",
        "\tout_lab_orig = torch.cat((tens_orig_l, out_ab_orig), dim=1)\n",
        "\treturn color.lab2rgb(out_lab_orig.data.cpu().numpy()[0,...].transpose((1,2,0)))\n",
        "\n",
        "class BaseColor(nn.Module):\n",
        "\tdef __init__(self):\n",
        "\t\tsuper(BaseColor, self).__init__()\n",
        "\t\tself.l_cent = 50.\n",
        "\t\tself.l_norm = 100.\n",
        "\t\tself.ab_norm = 110.\n",
        "\n",
        "\tdef normalize_l(self, in_l):\n",
        "\t\treturn (in_l-self.l_cent)/self.l_norm\n",
        "\n",
        "\tdef unnormalize_l(self, in_l):\n",
        "\t\treturn in_l*self.l_norm + self.l_cent\n",
        "\n",
        "\tdef normalize_ab(self, in_ab):\n",
        "\t\treturn in_ab/self.ab_norm\n",
        "\n",
        "\tdef unnormalize_ab(self, in_ab):\n",
        "\t\treturn in_ab*self.ab_norm\n",
        "\n",
        "class ECCVGenerator(BaseColor):\n",
        "    def __init__(self, norm_layer=nn.BatchNorm2d):\n",
        "        super(ECCVGenerator, self).__init__()\n",
        "\n",
        "        model1=[nn.Conv2d(1, 64, kernel_size=3, stride=1, padding=1, bias=True),]\n",
        "        model1+=[nn.ReLU(True),]\n",
        "        model1+=[nn.Conv2d(64, 64, kernel_size=3, stride=2, padding=1, bias=True),]\n",
        "        model1+=[nn.ReLU(True),]\n",
        "        model1+=[norm_layer(64),]\n",
        "\n",
        "        model2=[nn.Conv2d(64, 128, kernel_size=3, stride=1, padding=1, bias=True),]\n",
        "        model2+=[nn.ReLU(True),]\n",
        "        model2+=[nn.Conv2d(128, 128, kernel_size=3, stride=2, padding=1, bias=True),]\n",
        "        model2+=[nn.ReLU(True),]\n",
        "        model2+=[norm_layer(128),]\n",
        "\n",
        "        model3=[nn.Conv2d(128, 256, kernel_size=3, stride=1, padding=1, bias=True),]\n",
        "        model3+=[nn.ReLU(True),]\n",
        "        model3+=[nn.Conv2d(256, 256, kernel_size=3, stride=1, padding=1, bias=True),]\n",
        "        model3+=[nn.ReLU(True),]\n",
        "        model3+=[nn.Conv2d(256, 256, kernel_size=3, stride=2, padding=1, bias=True),]\n",
        "        model3+=[nn.ReLU(True),]\n",
        "        model3+=[norm_layer(256),]\n",
        "\n",
        "        model4=[nn.Conv2d(256, 512, kernel_size=3, stride=1, padding=1, bias=True),]\n",
        "        model4+=[nn.ReLU(True),]\n",
        "        model4+=[nn.Conv2d(512, 512, kernel_size=3, stride=1, padding=1, bias=True),]\n",
        "        model4+=[nn.ReLU(True),]\n",
        "        model4+=[nn.Conv2d(512, 512, kernel_size=3, stride=1, padding=1, bias=True),]\n",
        "        model4+=[nn.ReLU(True),]\n",
        "        model4+=[norm_layer(512),]\n",
        "\n",
        "        model5=[nn.Conv2d(512, 512, kernel_size=3, dilation=2, stride=1, padding=2, bias=True),]\n",
        "        model5+=[nn.ReLU(True),]\n",
        "        model5+=[nn.Conv2d(512, 512, kernel_size=3, dilation=2, stride=1, padding=2, bias=True),]\n",
        "        model5+=[nn.ReLU(True),]\n",
        "        model5+=[nn.Conv2d(512, 512, kernel_size=3, dilation=2, stride=1, padding=2, bias=True),]\n",
        "        model5+=[nn.ReLU(True),]\n",
        "        model5+=[norm_layer(512),]\n",
        "\n",
        "        model6=[nn.Conv2d(512, 512, kernel_size=3, dilation=2, stride=1, padding=2, bias=True),]\n",
        "        model6+=[nn.ReLU(True),]\n",
        "        model6+=[nn.Conv2d(512, 512, kernel_size=3, dilation=2, stride=1, padding=2, bias=True),]\n",
        "        model6+=[nn.ReLU(True),]\n",
        "        model6+=[nn.Conv2d(512, 512, kernel_size=3, dilation=2, stride=1, padding=2, bias=True),]\n",
        "        model6+=[nn.ReLU(True),]\n",
        "        model6+=[norm_layer(512),]\n",
        "\n",
        "        model7=[nn.Conv2d(512, 512, kernel_size=3, stride=1, padding=1, bias=True),]\n",
        "        model7+=[nn.ReLU(True),]\n",
        "        model7+=[nn.Conv2d(512, 512, kernel_size=3, stride=1, padding=1, bias=True),]\n",
        "        model7+=[nn.ReLU(True),]\n",
        "        model7+=[nn.Conv2d(512, 512, kernel_size=3, stride=1, padding=1, bias=True),]\n",
        "        model7+=[nn.ReLU(True),]\n",
        "        model7+=[norm_layer(512),]\n",
        "\n",
        "        model8=[nn.ConvTranspose2d(512, 256, kernel_size=4, stride=2, padding=1, bias=True),]\n",
        "        model8+=[nn.ReLU(True),]\n",
        "        model8+=[nn.Conv2d(256, 256, kernel_size=3, stride=1, padding=1, bias=True),]\n",
        "        model8+=[nn.ReLU(True),]\n",
        "        model8+=[nn.Conv2d(256, 256, kernel_size=3, stride=1, padding=1, bias=True),]\n",
        "        model8+=[nn.ReLU(True),]\n",
        "        model8+=[nn.Conv2d(256, 313, kernel_size=1, stride=1, padding=0, bias=True),]\n",
        "\n",
        "        self.model1 = nn.Sequential(*model1)\n",
        "        self.model2 = nn.Sequential(*model2)\n",
        "        self.model3 = nn.Sequential(*model3)\n",
        "        self.model4 = nn.Sequential(*model4)\n",
        "        self.model5 = nn.Sequential(*model5)\n",
        "        self.model6 = nn.Sequential(*model6)\n",
        "        self.model7 = nn.Sequential(*model7)\n",
        "        self.model8 = nn.Sequential(*model8)\n",
        "\n",
        "        self.softmax = nn.Softmax(dim=1)\n",
        "        self.model_out = nn.Conv2d(313, 2, kernel_size=1, padding=0, dilation=1, stride=1, bias=False)\n",
        "        self.upsample4 = nn.Upsample(scale_factor=4, mode='bilinear', align_corners=True)\n",
        "\n",
        "    def forward(self, input_l):\n",
        "        conv1_2 = self.model1(self.normalize_l(input_l))\n",
        "        conv2_2 = self.model2(conv1_2)\n",
        "        conv3_3 = self.model3(conv2_2)\n",
        "        conv4_3 = self.model4(conv3_3)\n",
        "        conv5_3 = self.model5(conv4_3)\n",
        "        conv6_3 = self.model6(conv5_3)\n",
        "        conv7_3 = self.model7(conv6_3)\n",
        "        conv8_3 = self.model8(conv7_3)\n",
        "        out_reg = self.model_out(self.softmax(conv8_3))\n",
        "\n",
        "        return self.unnormalize_ab(self.upsample4(out_reg))\n",
        "\n",
        "def eccv16(pretrained=True):\n",
        "\tmodel = ECCVGenerator()\n",
        "\tif pretrained:\n",
        "\t\timport torch.utils.model_zoo as model_zoo\n",
        "\t\tmodel.load_state_dict(model_zoo.load_url('https://colorizers.s3.us-east-2.amazonaws.com/colorization_release_v2-9b330a0b.pth',map_location='cpu',check_hash=True))\n",
        "\treturn model"
      ],
      "metadata": {
        "id": "bRRZZZu9byqj"
      },
      "execution_count": 2,
      "outputs": []
    },
    {
      "cell_type": "code",
      "source": [
        "class ColorizationDataset(torch.utils.data.Dataset):\n",
        "    '''Used to train the entire model'''\n",
        "    def __init__(self, root_dir, transform=None, max_samples=100):\n",
        "        self.root_dir = root_dir\n",
        "        self.transform = transform\n",
        "        self.image_paths = []\n",
        "        for root, dirs, files in os.walk(root_dir):\n",
        "            for file in files:\n",
        "                if file.lower().endswith(('.jpg', '.jpeg', '.png', '.bmp', '.tiff')):\n",
        "                    self.image_paths.append(os.path.join(root, file))\n",
        "\n",
        "    def __len__(self):\n",
        "        return len(self.image_paths)\n",
        "\n",
        "    def __getitem__(self, idx):\n",
        "        img_path = self.image_paths[idx]\n",
        "        img = Image.open(img_path).convert(\"RGB\")\n",
        "        if self.transform:\n",
        "            img = self.transform(img)\n",
        "        img_lab = color.rgb2lab(img.numpy().transpose((1, 2, 0)))\n",
        "        img_lab = (img_lab + [0, 128, 128]) / [100, 255, 255]\n",
        "        L = img_lab[..., :1]\n",
        "        ab = img_lab[..., 1:]\n",
        "        L = torch.from_numpy(L.transpose((2, 0, 1))).float()\n",
        "        ab = torch.from_numpy(ab.transpose((2, 0, 1))).float()\n",
        "        L = torch.nn.functional.pad(L, (1, 1, 1, 1), mode='constant', value=0)  # Padding (left, right, top, bottom)\n",
        "        ab = torch.nn.functional.pad(ab, (1, 1, 1, 1), mode='constant', value=0)  # Padding (left, right, top, bottom)\n",
        "        return L, ab\n",
        "\n",
        "transform = transforms.Compose([transforms.Resize((150, 150)), transforms.ToTensor()])\n",
        "\n",
        "train_dataset = ColorizationDataset(root_dir='drive/MyDrive/dataset/train', transform=transform)\n",
        "val_dataset = ColorizationDataset(root_dir='drive/MyDrive/dataset/validation', transform=transform)\n",
        "train_loader = torch.utils.data.DataLoader(train_dataset, batch_size=4, shuffle=True, num_workers=4)\n",
        "val_loader = torch.utils.data.DataLoader(val_dataset, batch_size=4, shuffle=True, num_workers=4)\n",
        "\n",
        "print(\"Train Dataset Size:\", len(train_dataset), \"Train Loader Size:\", len(train_loader))\n",
        "print(\"Val Dataset Size:\", len(val_dataset), \"Val Loader Size:\", len(val_loader))\n",
        "\n",
        "device = torch.device(\"cuda:0\" if torch.cuda.is_available() else \"cpu\")\n",
        "dataloaders = {'train': train_loader, 'val': val_loader}\n",
        "dataset_sizes = {'train': len(train_loader.dataset), 'val': len(val_loader.dataset)}\n",
        "\n",
        "print(\"Dataset_sizes / Dataloaders\")\n",
        "print(dataset_sizes)\n",
        "print(dataloaders)\n",
        "\n",
        "def train_model(model, criterion, optimizer, scheduler, num_epochs=25):\n",
        "    since = time.time()\n",
        "    best_model_wts = copy.deepcopy(model.state_dict())\n",
        "    best_loss = float('inf')\n",
        "\n",
        "    # Lists to store loss values\n",
        "    train_losses = []\n",
        "    val_losses = []\n",
        "\n",
        "    for epoch in range(num_epochs):\n",
        "        epoch_start_time = time.time()\n",
        "        print(f'Epoch {epoch + 1}/{num_epochs}')\n",
        "        print('-' * 10)\n",
        "\n",
        "        # Each epoch has a training and validation phase\n",
        "        for phase in ['train', 'val']:\n",
        "            running_loss = 0.0\n",
        "\n",
        "            if phase == 'train':\n",
        "                model.train()\n",
        "            else:\n",
        "                model.eval()\n",
        "\n",
        "            with tqdm(total=len(dataloaders[phase]), desc=f'{phase} Epoch {epoch+1}/{num_epochs}', unit='batch') as pbar:\n",
        "                for inputs, targets in dataloaders[phase]:\n",
        "                    inputs = inputs.to(device)\n",
        "                    targets = targets.to(device)\n",
        "\n",
        "                    optimizer.zero_grad()\n",
        "\n",
        "                    with torch.set_grad_enabled(phase == 'train'):\n",
        "                        outputs = model(inputs)\n",
        "                        loss = criterion(outputs, targets) # Compute loss\n",
        "\n",
        "                        if phase == 'train':\n",
        "                            loss.backward()\n",
        "                            optimizer.step()\n",
        "\n",
        "                    running_loss += loss.item() * inputs.size(0)\n",
        "\n",
        "                    # Progress bar\n",
        "                    pbar.set_postfix({'Loss': loss.item()})\n",
        "                    pbar.update(1)\n",
        "\n",
        "                if phase == 'train':\n",
        "                    scheduler.step()\n",
        "\n",
        "                epoch_loss = running_loss / dataset_sizes[phase]\n",
        "\n",
        "                if phase == 'train':\n",
        "                    train_losses.append(epoch_loss)\n",
        "                else:\n",
        "                    val_losses.append(epoch_loss)\n",
        "\n",
        "                print(f'{phase} Loss: {epoch_loss:.4f}')\n",
        "\n",
        "                # Deep copy the model\n",
        "                if phase == 'val' and epoch_loss < best_loss:\n",
        "                    best_loss = epoch_loss\n",
        "                    best_model_wts = copy.deepcopy(model.state_dict())\n",
        "                    torch.save(model.state_dict(), 'best_model.pth')\n",
        "\n",
        "            epoch_duration = time.time() - epoch_start_time\n",
        "            print(f'Epoch {epoch+1} completed in {epoch_duration:.2f} seconds')\n",
        "            print()\n",
        "\n",
        "    time_elapsed = time.time() - since\n",
        "    print(f'Training complete in {time_elapsed // 60:.0f}m {time_elapsed % 60:.0f}s')\n",
        "    print(f'Best val loss: {best_loss:.4f}')\n",
        "\n",
        "    # Load best model weights\n",
        "    model.load_state_dict(best_model_wts)\n",
        "    return model, train_losses, val_losses"
      ],
      "metadata": {
        "colab": {
          "base_uri": "https://localhost:8080/"
        },
        "id": "aTwEtWGzb5GP",
        "outputId": "dc41cacf-6892-45a6-c044-8bf20b1bbb48"
      },
      "execution_count": 4,
      "outputs": [
        {
          "output_type": "stream",
          "name": "stdout",
          "text": [
            "Train Dataset Size: 4277 Train Loader Size: 1070\n",
            "Val Dataset Size: 1436 Val Loader Size: 359\n",
            "Dataset_sizes / Dataloaders\n",
            "{'train': 4277, 'val': 1436}\n",
            "{'train': <torch.utils.data.dataloader.DataLoader object at 0x7a6412cb51e0>, 'val': <torch.utils.data.dataloader.DataLoader object at 0x7a6412cb5030>}\n"
          ]
        },
        {
          "output_type": "stream",
          "name": "stderr",
          "text": [
            "/usr/local/lib/python3.10/dist-packages/torch/utils/data/dataloader.py:617: UserWarning: This DataLoader will create 4 worker processes in total. Our suggested max number of worker in current system is 2, which is smaller than what this DataLoader is going to create. Please be aware that excessive worker creation might get DataLoader running slow or even freeze, lower the worker number to avoid potential slowness/freeze if necessary.\n",
            "  warnings.warn(\n"
          ]
        }
      ]
    },
    {
      "cell_type": "code",
      "source": [
        "if __name__ == '__main__':\n",
        "    model = eccv16(pretrained=False)\n",
        "    model = model.to(device)\n",
        "\n",
        "    summary(model, input_size=(4, 1, 150, 150))\n",
        "\n",
        "    num_epochs = 25\n",
        "    criterion = torch.nn.MSELoss()\n",
        "    optimizer = torch.optim.Adam(model.parameters(), lr=0.001)\n",
        "    scheduler = torch.optim.lr_scheduler.CosineAnnealingLR(optimizer, T_max=num_epochs)\n",
        "\n",
        "    model, train_losses, val_losses = train_model(model, criterion, optimizer, scheduler, num_epochs)\n",
        "\n",
        "    # Plot the loss curves\n",
        "    epochs = range(1, num_epochs+1)\n",
        "    plt.figure()\n",
        "    plt.plot(epochs, train_losses, 'bo-', label='Training loss')\n",
        "    plt.plot(epochs, val_losses, 'ro-', label='Validation loss')\n",
        "    plt.title('Training and Validation Loss')\n",
        "    plt.xlabel('Epochs')\n",
        "    plt.ylabel('Loss')\n",
        "    plt.legend()\n",
        "    plt.show()"
      ],
      "metadata": {
        "id": "_2WeS4f9ctiz",
        "outputId": "a21fef51-a56c-4efd-c713-034c017b2f36",
        "colab": {
          "base_uri": "https://localhost:8080/",
          "height": 1000
        }
      },
      "execution_count": 6,
      "outputs": [
        {
          "metadata": {
            "tags": null
          },
          "name": "stdout",
          "output_type": "stream",
          "text": [
            "Epoch 1/25\n",
            "----------\n"
          ]
        },
        {
          "metadata": {
            "tags": null
          },
          "name": "stderr",
          "output_type": "stream",
          "text": [
            "train Epoch 1/25: 100%|██████████| 1070/1070 [03:37<00:00,  4.92batch/s, Loss=0.00338]\n"
          ]
        },
        {
          "metadata": {
            "tags": null
          },
          "name": "stdout",
          "output_type": "stream",
          "text": [
            "train Loss: 0.0067\n",
            "Epoch 1 completed in 217.67 seconds\n",
            "\n"
          ]
        },
        {
          "metadata": {
            "tags": null
          },
          "name": "stderr",
          "output_type": "stream",
          "text": [
            "val Epoch 1/25: 100%|██████████| 359/359 [02:21<00:00,  2.17batch/s, Loss=0.00727]"
          ]
        },
        {
          "metadata": {
            "tags": null
          },
          "name": "stdout",
          "output_type": "stream",
          "text": [
            "val Loss: 0.0101\n"
          ]
        },
        {
          "metadata": {
            "tags": null
          },
          "name": "stderr",
          "output_type": "stream",
          "text": [
            "\rval Epoch 1/25: 100%|██████████| 359/359 [02:22<00:00,  2.52batch/s, Loss=0.00727]\n"
          ]
        },
        {
          "metadata": {
            "tags": null
          },
          "name": "stdout",
          "output_type": "stream",
          "text": [
            "Epoch 1 completed in 359.92 seconds\n",
            "\n",
            "Epoch 2/25\n",
            "----------\n"
          ]
        },
        {
          "metadata": {
            "tags": null
          },
          "name": "stderr",
          "output_type": "stream",
          "text": [
            "train Epoch 2/25: 100%|██████████| 1070/1070 [02:09<00:00,  8.25batch/s, Loss=0.00529]\n"
          ]
        },
        {
          "metadata": {
            "tags": null
          },
          "name": "stdout",
          "output_type": "stream",
          "text": [
            "train Loss: 0.0062\n",
            "Epoch 2 completed in 129.72 seconds\n",
            "\n"
          ]
        },
        {
          "metadata": {
            "tags": null
          },
          "name": "stderr",
          "output_type": "stream",
          "text": [
            "val Epoch 2/25: 100%|██████████| 359/359 [00:16<00:00, 26.36batch/s, Loss=0.0079]"
          ]
        },
        {
          "metadata": {
            "tags": null
          },
          "name": "stdout",
          "output_type": "stream",
          "text": [
            "val Loss: 0.0067\n"
          ]
        },
        {
          "metadata": {
            "tags": null
          },
          "name": "stderr",
          "output_type": "stream",
          "text": [
            "\rval Epoch 2/25: 100%|██████████| 359/359 [00:16<00:00, 21.37batch/s, Loss=0.0079]\n"
          ]
        },
        {
          "metadata": {
            "tags": null
          },
          "name": "stdout",
          "output_type": "stream",
          "text": [
            "Epoch 2 completed in 146.53 seconds\n",
            "\n",
            "Epoch 3/25\n",
            "----------\n"
          ]
        },
        {
          "metadata": {
            "tags": null
          },
          "name": "stderr",
          "output_type": "stream",
          "text": [
            "train Epoch 3/25: 100%|██████████| 1070/1070 [02:11<00:00,  8.11batch/s, Loss=0.00383]\n"
          ]
        },
        {
          "metadata": {
            "tags": null
          },
          "name": "stdout",
          "output_type": "stream",
          "text": [
            "train Loss: 0.0061\n",
            "Epoch 3 completed in 131.93 seconds\n",
            "\n"
          ]
        },
        {
          "metadata": {
            "tags": null
          },
          "name": "stderr",
          "output_type": "stream",
          "text": [
            "val Epoch 3/25: 100%|█████████▉| 358/359 [00:16<00:00, 20.57batch/s, Loss=0.00487]"
          ]
        },
        {
          "metadata": {
            "tags": null
          },
          "name": "stdout",
          "output_type": "stream",
          "text": [
            "val Loss: 0.0059\n"
          ]
        },
        {
          "metadata": {
            "tags": null
          },
          "name": "stderr",
          "output_type": "stream",
          "text": [
            "\rval Epoch 3/25: 100%|██████████| 359/359 [00:16<00:00, 21.21batch/s, Loss=0.00487]\n"
          ]
        },
        {
          "metadata": {
            "tags": null
          },
          "name": "stdout",
          "output_type": "stream",
          "text": [
            "Epoch 3 completed in 148.86 seconds\n",
            "\n",
            "Epoch 4/25\n",
            "----------\n"
          ]
        },
        {
          "metadata": {
            "tags": null
          },
          "name": "stderr",
          "output_type": "stream",
          "text": [
            "train Epoch 4/25: 100%|██████████| 1070/1070 [02:11<00:00,  8.13batch/s, Loss=0.00537]\n"
          ]
        },
        {
          "metadata": {
            "tags": null
          },
          "name": "stdout",
          "output_type": "stream",
          "text": [
            "train Loss: 0.0060\n",
            "Epoch 4 completed in 131.55 seconds\n",
            "\n"
          ]
        },
        {
          "metadata": {
            "tags": null
          },
          "name": "stderr",
          "output_type": "stream",
          "text": [
            "val Epoch 4/25: 100%|██████████| 359/359 [00:16<00:00, 21.91batch/s, Loss=0.00689]\n"
          ]
        },
        {
          "metadata": {
            "tags": null
          },
          "name": "stdout",
          "output_type": "stream",
          "text": [
            "val Loss: 0.0060\n",
            "Epoch 4 completed in 147.95 seconds\n",
            "\n",
            "Epoch 5/25\n",
            "----------\n"
          ]
        },
        {
          "metadata": {
            "tags": null
          },
          "name": "stderr",
          "output_type": "stream",
          "text": [
            "train Epoch 5/25: 100%|██████████| 1070/1070 [02:11<00:00,  8.16batch/s, Loss=0.00717]\n"
          ]
        },
        {
          "metadata": {
            "tags": null
          },
          "name": "stdout",
          "output_type": "stream",
          "text": [
            "train Loss: 0.0060\n",
            "Epoch 5 completed in 131.17 seconds\n",
            "\n"
          ]
        },
        {
          "metadata": {
            "tags": null
          },
          "name": "stderr",
          "output_type": "stream",
          "text": [
            "val Epoch 5/25: 100%|█████████▉| 358/359 [00:16<00:00, 26.02batch/s, Loss=0.00363]"
          ]
        },
        {
          "metadata": {
            "tags": null
          },
          "name": "stdout",
          "output_type": "stream",
          "text": [
            "val Loss: 0.0055\n"
          ]
        },
        {
          "metadata": {
            "tags": null
          },
          "name": "stderr",
          "output_type": "stream",
          "text": [
            "\rval Epoch 5/25: 100%|██████████| 359/359 [00:16<00:00, 21.59batch/s, Loss=0.00363]\n"
          ]
        },
        {
          "metadata": {
            "tags": null
          },
          "name": "stdout",
          "output_type": "stream",
          "text": [
            "Epoch 5 completed in 147.81 seconds\n",
            "\n",
            "Epoch 6/25\n",
            "----------\n"
          ]
        },
        {
          "metadata": {
            "tags": null
          },
          "name": "stderr",
          "output_type": "stream",
          "text": [
            "train Epoch 6/25: 100%|██████████| 1070/1070 [02:11<00:00,  8.15batch/s, Loss=0.0062]\n"
          ]
        },
        {
          "metadata": {
            "tags": null
          },
          "name": "stdout",
          "output_type": "stream",
          "text": [
            "train Loss: 0.0059\n",
            "Epoch 6 completed in 131.26 seconds\n",
            "\n"
          ]
        },
        {
          "metadata": {
            "tags": null
          },
          "name": "stderr",
          "output_type": "stream",
          "text": [
            "val Epoch 6/25: 100%|██████████| 359/359 [00:15<00:00, 22.57batch/s, Loss=0.0107]\n"
          ]
        },
        {
          "metadata": {
            "tags": null
          },
          "name": "stdout",
          "output_type": "stream",
          "text": [
            "val Loss: 0.0072\n",
            "Epoch 6 completed in 147.18 seconds\n",
            "\n",
            "Epoch 7/25\n",
            "----------\n"
          ]
        },
        {
          "metadata": {
            "tags": null
          },
          "name": "stderr",
          "output_type": "stream",
          "text": [
            "train Epoch 7/25: 100%|██████████| 1070/1070 [02:10<00:00,  8.20batch/s, Loss=0.00608]\n"
          ]
        },
        {
          "metadata": {
            "tags": null
          },
          "name": "stdout",
          "output_type": "stream",
          "text": [
            "train Loss: 0.0058\n",
            "Epoch 7 completed in 130.51 seconds\n",
            "\n"
          ]
        },
        {
          "metadata": {
            "tags": null
          },
          "name": "stderr",
          "output_type": "stream",
          "text": [
            "val Epoch 7/25: 100%|██████████| 359/359 [00:15<00:00, 22.73batch/s, Loss=0.00612]\n"
          ]
        },
        {
          "metadata": {
            "tags": null
          },
          "name": "stdout",
          "output_type": "stream",
          "text": [
            "val Loss: 0.0064\n",
            "Epoch 7 completed in 146.32 seconds\n",
            "\n",
            "Epoch 8/25\n",
            "----------\n"
          ]
        },
        {
          "output_type": "stream",
          "name": "stderr",
          "text": [
            "train Epoch 8/25: 100%|██████████| 1070/1070 [02:09<00:00,  8.23batch/s, Loss=0.00318]\n"
          ]
        },
        {
          "output_type": "stream",
          "name": "stdout",
          "text": [
            "train Loss: 0.0058\n",
            "Epoch 8 completed in 130.00 seconds\n",
            "\n"
          ]
        },
        {
          "output_type": "stream",
          "name": "stderr",
          "text": [
            "val Epoch 8/25: 100%|██████████| 359/359 [00:16<00:00, 21.63batch/s, Loss=0.00443]\n"
          ]
        },
        {
          "output_type": "stream",
          "name": "stdout",
          "text": [
            "val Loss: 0.0071\n",
            "Epoch 8 completed in 146.61 seconds\n",
            "\n",
            "Epoch 9/25\n",
            "----------\n"
          ]
        },
        {
          "output_type": "stream",
          "name": "stderr",
          "text": [
            "train Epoch 9/25: 100%|██████████| 1070/1070 [02:11<00:00,  8.16batch/s, Loss=0.0098]\n"
          ]
        },
        {
          "output_type": "stream",
          "name": "stdout",
          "text": [
            "train Loss: 0.0057\n",
            "Epoch 9 completed in 131.11 seconds\n",
            "\n"
          ]
        },
        {
          "output_type": "stream",
          "name": "stderr",
          "text": [
            "val Epoch 9/25: 100%|██████████| 359/359 [00:16<00:00, 21.78batch/s, Loss=0.00802]\n"
          ]
        },
        {
          "output_type": "stream",
          "name": "stdout",
          "text": [
            "val Loss: 0.0062\n",
            "Epoch 9 completed in 147.60 seconds\n",
            "\n",
            "Epoch 10/25\n",
            "----------\n"
          ]
        },
        {
          "output_type": "stream",
          "name": "stderr",
          "text": [
            "train Epoch 10/25: 100%|██████████| 1070/1070 [02:10<00:00,  8.19batch/s, Loss=0.00415]\n"
          ]
        },
        {
          "output_type": "stream",
          "name": "stdout",
          "text": [
            "train Loss: 0.0055\n",
            "Epoch 10 completed in 130.60 seconds\n",
            "\n"
          ]
        },
        {
          "output_type": "stream",
          "name": "stderr",
          "text": [
            "val Epoch 10/25: 100%|██████████| 359/359 [00:16<00:00, 21.49batch/s, Loss=0.00554]\n"
          ]
        },
        {
          "output_type": "stream",
          "name": "stdout",
          "text": [
            "val Loss: 0.0056\n",
            "Epoch 10 completed in 147.31 seconds\n",
            "\n",
            "Epoch 11/25\n",
            "----------\n"
          ]
        },
        {
          "output_type": "stream",
          "name": "stderr",
          "text": [
            "train Epoch 11/25: 100%|██████████| 1070/1070 [02:10<00:00,  8.17batch/s, Loss=0.0058]\n"
          ]
        },
        {
          "output_type": "stream",
          "name": "stdout",
          "text": [
            "train Loss: 0.0054\n",
            "Epoch 11 completed in 131.00 seconds\n",
            "\n"
          ]
        },
        {
          "output_type": "stream",
          "name": "stderr",
          "text": [
            "val Epoch 11/25: 100%|██████████| 359/359 [00:17<00:00, 20.97batch/s, Loss=0.00419]\n"
          ]
        },
        {
          "output_type": "stream",
          "name": "stdout",
          "text": [
            "val Loss: 0.0058\n",
            "Epoch 11 completed in 148.12 seconds\n",
            "\n",
            "Epoch 12/25\n",
            "----------\n"
          ]
        },
        {
          "output_type": "stream",
          "name": "stderr",
          "text": [
            "train Epoch 12/25: 100%|██████████| 1070/1070 [02:11<00:00,  8.15batch/s, Loss=0.00594]\n"
          ]
        },
        {
          "output_type": "stream",
          "name": "stdout",
          "text": [
            "train Loss: 0.0053\n",
            "Epoch 12 completed in 131.24 seconds\n",
            "\n"
          ]
        },
        {
          "output_type": "stream",
          "name": "stderr",
          "text": [
            "val Epoch 12/25: 100%|██████████| 359/359 [00:17<00:00, 20.99batch/s, Loss=0.00564]\n"
          ]
        },
        {
          "output_type": "stream",
          "name": "stdout",
          "text": [
            "val Loss: 0.0059\n",
            "Epoch 12 completed in 148.36 seconds\n",
            "\n",
            "Epoch 13/25\n",
            "----------\n"
          ]
        },
        {
          "output_type": "stream",
          "name": "stderr",
          "text": [
            "train Epoch 13/25: 100%|██████████| 1070/1070 [02:10<00:00,  8.18batch/s, Loss=0.00503]\n"
          ]
        },
        {
          "output_type": "stream",
          "name": "stdout",
          "text": [
            "train Loss: 0.0054\n",
            "Epoch 13 completed in 130.84 seconds\n",
            "\n"
          ]
        },
        {
          "output_type": "stream",
          "name": "stderr",
          "text": [
            "val Epoch 13/25: 100%|█████████▉| 358/359 [00:17<00:00, 20.77batch/s, Loss=0.00607]"
          ]
        },
        {
          "output_type": "stream",
          "name": "stdout",
          "text": [
            "val Loss: 0.0053\n"
          ]
        },
        {
          "output_type": "stream",
          "name": "stderr",
          "text": [
            "\rval Epoch 13/25: 100%|██████████| 359/359 [00:18<00:00, 19.58batch/s, Loss=0.00607]\n"
          ]
        },
        {
          "output_type": "stream",
          "name": "stdout",
          "text": [
            "Epoch 13 completed in 149.19 seconds\n",
            "\n",
            "Epoch 14/25\n",
            "----------\n"
          ]
        },
        {
          "output_type": "stream",
          "name": "stderr",
          "text": [
            "train Epoch 14/25: 100%|██████████| 1070/1070 [02:10<00:00,  8.19batch/s, Loss=0.00365]\n"
          ]
        },
        {
          "output_type": "stream",
          "name": "stdout",
          "text": [
            "train Loss: 0.0052\n",
            "Epoch 14 completed in 130.67 seconds\n",
            "\n"
          ]
        },
        {
          "output_type": "stream",
          "name": "stderr",
          "text": [
            "val Epoch 14/25: 100%|██████████| 359/359 [00:16<00:00, 21.41batch/s, Loss=0.00395]\n"
          ]
        },
        {
          "output_type": "stream",
          "name": "stdout",
          "text": [
            "val Loss: 0.0058\n",
            "Epoch 14 completed in 147.45 seconds\n",
            "\n",
            "Epoch 15/25\n",
            "----------\n"
          ]
        },
        {
          "output_type": "stream",
          "name": "stderr",
          "text": [
            "train Epoch 15/25: 100%|██████████| 1070/1070 [02:10<00:00,  8.20batch/s, Loss=0.00384]\n"
          ]
        },
        {
          "output_type": "stream",
          "name": "stdout",
          "text": [
            "train Loss: 0.0051\n",
            "Epoch 15 completed in 130.45 seconds\n",
            "\n"
          ]
        },
        {
          "output_type": "stream",
          "name": "stderr",
          "text": [
            "val Epoch 15/25: 100%|██████████| 359/359 [00:16<00:00, 21.69batch/s, Loss=0.00578]\n"
          ]
        },
        {
          "output_type": "stream",
          "name": "stdout",
          "text": [
            "val Loss: 0.0056\n",
            "Epoch 15 completed in 147.01 seconds\n",
            "\n",
            "Epoch 16/25\n",
            "----------\n"
          ]
        },
        {
          "output_type": "stream",
          "name": "stderr",
          "text": [
            "train Epoch 16/25: 100%|██████████| 1070/1070 [02:10<00:00,  8.18batch/s, Loss=0.0106]\n"
          ]
        },
        {
          "output_type": "stream",
          "name": "stdout",
          "text": [
            "train Loss: 0.0051\n",
            "Epoch 16 completed in 130.89 seconds\n",
            "\n"
          ]
        },
        {
          "output_type": "stream",
          "name": "stderr",
          "text": [
            "val Epoch 16/25: 100%|██████████| 359/359 [00:17<00:00, 21.08batch/s, Loss=0.00425]\n"
          ]
        },
        {
          "output_type": "stream",
          "name": "stdout",
          "text": [
            "val Loss: 0.0057\n",
            "Epoch 16 completed in 147.94 seconds\n",
            "\n",
            "Epoch 17/25\n",
            "----------\n"
          ]
        },
        {
          "output_type": "stream",
          "name": "stderr",
          "text": [
            "train Epoch 17/25: 100%|██████████| 1070/1070 [02:11<00:00,  8.14batch/s, Loss=0.00359]\n"
          ]
        },
        {
          "output_type": "stream",
          "name": "stdout",
          "text": [
            "train Loss: 0.0051\n",
            "Epoch 17 completed in 131.40 seconds\n",
            "\n"
          ]
        },
        {
          "output_type": "stream",
          "name": "stderr",
          "text": [
            "val Epoch 17/25: 100%|█████████▉| 358/359 [00:17<00:00, 20.33batch/s, Loss=0.00335]"
          ]
        },
        {
          "output_type": "stream",
          "name": "stdout",
          "text": [
            "val Loss: 0.0053\n"
          ]
        },
        {
          "output_type": "stream",
          "name": "stderr",
          "text": [
            "\rval Epoch 17/25: 100%|██████████| 359/359 [00:17<00:00, 20.34batch/s, Loss=0.00335]\n"
          ]
        },
        {
          "output_type": "stream",
          "name": "stdout",
          "text": [
            "Epoch 17 completed in 149.05 seconds\n",
            "\n",
            "Epoch 18/25\n",
            "----------\n"
          ]
        },
        {
          "output_type": "stream",
          "name": "stderr",
          "text": [
            "train Epoch 18/25: 100%|██████████| 1070/1070 [02:10<00:00,  8.17batch/s, Loss=0.00654]\n"
          ]
        },
        {
          "output_type": "stream",
          "name": "stdout",
          "text": [
            "train Loss: 0.0050\n",
            "Epoch 18 completed in 130.99 seconds\n",
            "\n"
          ]
        },
        {
          "output_type": "stream",
          "name": "stderr",
          "text": [
            "val Epoch 18/25: 100%|██████████| 359/359 [00:17<00:00, 20.70batch/s, Loss=0.00606]\n"
          ]
        },
        {
          "output_type": "stream",
          "name": "stdout",
          "text": [
            "val Loss: 0.0055\n",
            "Epoch 18 completed in 148.34 seconds\n",
            "\n",
            "Epoch 19/25\n",
            "----------\n"
          ]
        },
        {
          "output_type": "stream",
          "name": "stderr",
          "text": [
            "train Epoch 19/25: 100%|██████████| 1070/1070 [02:11<00:00,  8.16batch/s, Loss=0.00299]\n"
          ]
        },
        {
          "output_type": "stream",
          "name": "stdout",
          "text": [
            "train Loss: 0.0049\n",
            "Epoch 19 completed in 131.17 seconds\n",
            "\n"
          ]
        },
        {
          "output_type": "stream",
          "name": "stderr",
          "text": [
            "val Epoch 19/25: 100%|█████████▉| 358/359 [00:17<00:00, 21.82batch/s, Loss=0.00482]"
          ]
        },
        {
          "output_type": "stream",
          "name": "stdout",
          "text": [
            "val Loss: 0.0052\n"
          ]
        },
        {
          "output_type": "stream",
          "name": "stderr",
          "text": [
            "\rval Epoch 19/25: 100%|██████████| 359/359 [00:17<00:00, 20.14batch/s, Loss=0.00482]\n"
          ]
        },
        {
          "output_type": "stream",
          "name": "stdout",
          "text": [
            "Epoch 19 completed in 149.01 seconds\n",
            "\n",
            "Epoch 20/25\n",
            "----------\n"
          ]
        },
        {
          "output_type": "stream",
          "name": "stderr",
          "text": [
            "train Epoch 20/25: 100%|██████████| 1070/1070 [02:11<00:00,  8.16batch/s, Loss=0.00412]\n"
          ]
        },
        {
          "output_type": "stream",
          "name": "stdout",
          "text": [
            "train Loss: 0.0048\n",
            "Epoch 20 completed in 131.16 seconds\n",
            "\n"
          ]
        },
        {
          "output_type": "stream",
          "name": "stderr",
          "text": [
            "val Epoch 20/25: 100%|█████████▉| 358/359 [00:17<00:00, 21.35batch/s, Loss=0.00457]"
          ]
        },
        {
          "output_type": "stream",
          "name": "stdout",
          "text": [
            "val Loss: 0.0050\n"
          ]
        },
        {
          "output_type": "stream",
          "name": "stderr",
          "text": [
            "\rval Epoch 20/25: 100%|██████████| 359/359 [00:17<00:00, 20.34batch/s, Loss=0.00457]\n"
          ]
        },
        {
          "output_type": "stream",
          "name": "stdout",
          "text": [
            "Epoch 20 completed in 148.82 seconds\n",
            "\n",
            "Epoch 21/25\n",
            "----------\n"
          ]
        },
        {
          "output_type": "stream",
          "name": "stderr",
          "text": [
            "train Epoch 21/25: 100%|██████████| 1070/1070 [02:11<00:00,  8.14batch/s, Loss=0.00364]\n"
          ]
        },
        {
          "output_type": "stream",
          "name": "stdout",
          "text": [
            "train Loss: 0.0048\n",
            "Epoch 21 completed in 131.48 seconds\n",
            "\n"
          ]
        },
        {
          "output_type": "stream",
          "name": "stderr",
          "text": [
            "val Epoch 21/25: 100%|██████████| 359/359 [00:17<00:00, 21.10batch/s, Loss=0.00415]\n"
          ]
        },
        {
          "output_type": "stream",
          "name": "stdout",
          "text": [
            "val Loss: 0.0051\n",
            "Epoch 21 completed in 148.50 seconds\n",
            "\n",
            "Epoch 22/25\n",
            "----------\n"
          ]
        },
        {
          "output_type": "stream",
          "name": "stderr",
          "text": [
            "train Epoch 22/25: 100%|██████████| 1070/1070 [02:11<00:00,  8.14batch/s, Loss=0.00512]\n"
          ]
        },
        {
          "output_type": "stream",
          "name": "stdout",
          "text": [
            "train Loss: 0.0048\n",
            "Epoch 22 completed in 131.43 seconds\n",
            "\n"
          ]
        },
        {
          "output_type": "stream",
          "name": "stderr",
          "text": [
            "val Epoch 22/25: 100%|█████████▉| 358/359 [00:16<00:00, 25.80batch/s, Loss=0.00506]"
          ]
        },
        {
          "output_type": "stream",
          "name": "stdout",
          "text": [
            "val Loss: 0.0050\n"
          ]
        },
        {
          "output_type": "stream",
          "name": "stderr",
          "text": [
            "\rval Epoch 22/25: 100%|██████████| 359/359 [00:17<00:00, 20.69batch/s, Loss=0.00506]\n"
          ]
        },
        {
          "output_type": "stream",
          "name": "stdout",
          "text": [
            "Epoch 22 completed in 148.80 seconds\n",
            "\n",
            "Epoch 23/25\n",
            "----------\n"
          ]
        },
        {
          "output_type": "stream",
          "name": "stderr",
          "text": [
            "train Epoch 23/25: 100%|██████████| 1070/1070 [02:11<00:00,  8.15batch/s, Loss=0.00357]\n"
          ]
        },
        {
          "output_type": "stream",
          "name": "stdout",
          "text": [
            "train Loss: 0.0047\n",
            "Epoch 23 completed in 131.36 seconds\n",
            "\n"
          ]
        },
        {
          "output_type": "stream",
          "name": "stderr",
          "text": [
            "val Epoch 23/25: 100%|█████████▉| 358/359 [00:16<00:00, 25.50batch/s, Loss=0.00795]"
          ]
        },
        {
          "output_type": "stream",
          "name": "stdout",
          "text": [
            "val Loss: 0.0049\n"
          ]
        },
        {
          "output_type": "stream",
          "name": "stderr",
          "text": [
            "\rval Epoch 23/25: 100%|██████████| 359/359 [00:17<00:00, 21.12batch/s, Loss=0.00795]\n"
          ]
        },
        {
          "output_type": "stream",
          "name": "stdout",
          "text": [
            "Epoch 23 completed in 148.38 seconds\n",
            "\n",
            "Epoch 24/25\n",
            "----------\n"
          ]
        },
        {
          "output_type": "stream",
          "name": "stderr",
          "text": [
            "train Epoch 24/25: 100%|██████████| 1070/1070 [02:11<00:00,  8.12batch/s, Loss=0.00535]\n"
          ]
        },
        {
          "output_type": "stream",
          "name": "stdout",
          "text": [
            "train Loss: 0.0047\n",
            "Epoch 24 completed in 131.81 seconds\n",
            "\n"
          ]
        },
        {
          "output_type": "stream",
          "name": "stderr",
          "text": [
            "val Epoch 24/25: 100%|█████████▉| 358/359 [00:17<00:00, 23.99batch/s, Loss=0.00502]"
          ]
        },
        {
          "output_type": "stream",
          "name": "stdout",
          "text": [
            "val Loss: 0.0049\n"
          ]
        },
        {
          "output_type": "stream",
          "name": "stderr",
          "text": [
            "\rval Epoch 24/25: 100%|██████████| 359/359 [00:18<00:00, 19.82batch/s, Loss=0.00502]\n"
          ]
        },
        {
          "output_type": "stream",
          "name": "stdout",
          "text": [
            "Epoch 24 completed in 149.93 seconds\n",
            "\n",
            "Epoch 25/25\n",
            "----------\n"
          ]
        },
        {
          "output_type": "stream",
          "name": "stderr",
          "text": [
            "train Epoch 25/25: 100%|██████████| 1070/1070 [02:11<00:00,  8.11batch/s, Loss=0.00428]\n"
          ]
        },
        {
          "output_type": "stream",
          "name": "stdout",
          "text": [
            "train Loss: 0.0047\n",
            "Epoch 25 completed in 132.00 seconds\n",
            "\n"
          ]
        },
        {
          "output_type": "stream",
          "name": "stderr",
          "text": [
            "val Epoch 25/25: 100%|█████████▉| 358/359 [00:17<00:00, 24.76batch/s, Loss=0.00346]"
          ]
        },
        {
          "output_type": "stream",
          "name": "stdout",
          "text": [
            "val Loss: 0.0048\n"
          ]
        },
        {
          "output_type": "stream",
          "name": "stderr",
          "text": [
            "\rval Epoch 25/25: 100%|██████████| 359/359 [00:18<00:00, 19.71batch/s, Loss=0.00346]\n"
          ]
        },
        {
          "output_type": "stream",
          "name": "stdout",
          "text": [
            "Epoch 25 completed in 150.23 seconds\n",
            "\n",
            "Training complete in 65m 15s\n",
            "Best val loss: 0.0048\n"
          ]
        },
        {
          "output_type": "display_data",
          "data": {
            "text/plain": [
              "<Figure size 640x480 with 1 Axes>"
            ],
            "image/png": "[encoded data removed]"
          },
          "metadata": {}
        }
      ]
    }
  ]
}